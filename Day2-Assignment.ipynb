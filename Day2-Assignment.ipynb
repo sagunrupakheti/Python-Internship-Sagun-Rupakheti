{
 "cells": [
  {
   "cell_type": "markdown",
   "metadata": {},
   "source": [
    "# Day 2 Assignment"
   ]
  },
  {
   "cell_type": "markdown",
   "metadata": {},
   "source": [
    "##1. Create generator with and without comprehension for getting multiples of given number upto 10.\n",
    "Eg. generator(5) =>> 5, 10, 15 …. 50\n"
   ]
  },
  {
   "cell_type": "code",
   "execution_count": 16,
   "metadata": {},
   "outputs": [
    {
     "name": "stdout",
     "output_type": "stream",
     "text": [
      "3 6 9 12 15 18 21 24 27 30 "
     ]
    }
   ],
   "source": [
    "#generator without comprehension\n",
    "def my_new_gen(var):\n",
    "    for i in range(1,11):\n",
    "        #yield used for return\n",
    "        yield var*i\n",
    "\n",
    "for item in my_new_gen(3):\n",
    "    print(item,end=' ')"
   ]
  },
  {
   "cell_type": "code",
   "execution_count": 17,
   "metadata": {},
   "outputs": [
    {
     "name": "stdout",
     "output_type": "stream",
     "text": [
      "5 10 15 20 25 30 35 40 45 50 "
     ]
    }
   ],
   "source": [
    "#generator with comprehension returns the multiple first\n",
    "gen_comp = (i*5 for i in range(1,11))\n",
    "\n",
    "for item in gen_comp:\n",
    "    print(item,end=' ')"
   ]
  },
  {
   "cell_type": "markdown",
   "metadata": {},
   "source": [
    "##2. Create a scenario where the following errors are handled:\n",
    "a.Custom Error implemented using class\n",
    "b.Custom Error using Exception or BaseException class using message to handle at least two of the cases.\n",
    "c.The full-fledged case for exception handling using try, except, else, finally\n"
   ]
  },
  {
   "cell_type": "code",
   "execution_count": 22,
   "metadata": {},
   "outputs": [
    {
     "name": "stdout",
     "output_type": "stream",
     "text": [
      "The number falls in the range!\n"
     ]
    }
   ],
   "source": [
    "#Custom Error implemented using class\n",
    "class SmallValue(Exception):\n",
    "    pass\n",
    "\n",
    "def checkNum(num):\n",
    "    try:\n",
    "        if num<10:\n",
    "            raise SmallValue\n",
    "        else:\n",
    "            print('The number falls in the range!')\n",
    "    except SmallValue:\n",
    "        print('Please enter a greater number!')\n",
    "        \n",
    "checkNum(12)\n",
    "        \n",
    "        "
   ]
  },
  {
   "cell_type": "code",
   "execution_count": 26,
   "metadata": {},
   "outputs": [
    {
     "name": "stdout",
     "output_type": "stream",
     "text": [
      "Please enter number greater than zero!\n"
     ]
    }
   ],
   "source": [
    "#Custom Error using Exception or BaseException class using message to handle at least two of the cases.\n",
    "class SmallValue(Exception):\n",
    "    pass\n",
    "\n",
    "def checkNum(num):\n",
    "    try:\n",
    "        2%num\n",
    "        if num<10:\n",
    "            raise SmallValue\n",
    "        else:\n",
    "            print('The number falls in the range!')\n",
    "    except ZeroDivisionError:\n",
    "        print('Please enter number greater than zero!')\n",
    "    except SmallValue:\n",
    "        print('Please enter a greater number!')   \n",
    "checkNum(0)"
   ]
  },
  {
   "cell_type": "code",
   "execution_count": 28,
   "metadata": {},
   "outputs": [
    {
     "name": "stdout",
     "output_type": "stream",
     "text": [
      "Congratulations! Non Zero Number\n",
      "You entered the number:  2\n"
     ]
    }
   ],
   "source": [
    "#The full-fledged case for exception handling using try, except, else, finally\n",
    "def checkNum(num):\n",
    "    try:\n",
    "        #remainder\n",
    "        2%num\n",
    "    except ZeroDivisionError:\n",
    "        print('Please enter number greater than zero!')\n",
    "    else:\n",
    "        print('Congratulations! Non Zero Number')\n",
    "    finally:\n",
    "        print('You entered the number: ',num)\n",
    "checkNum(2)\n",
    "        "
   ]
  },
  {
   "cell_type": "markdown",
   "metadata": {},
   "source": [
    "##3. Create at least 4 classes having semantic meaning (having relation to each other) so that multiple inheritance can be achieved and incorporating the following things in some of them:\n",
    "@classmethod \n",
    "@staticmethod\n",
    "@property and setter for it\n",
    "Class_variable\n"
   ]
  },
  {
   "cell_type": "code",
   "execution_count": 1,
   "metadata": {},
   "outputs": [
    {
     "name": "stdout",
     "output_type": "stream",
     "text": [
      "Sagun Rupakheti\n",
      "The phone number is:  98995746434\n",
      "True\n"
     ]
    }
   ],
   "source": [
    "class Name():\n",
    "    def __init__(self, fname, lname):\n",
    "        self.fname= fname\n",
    "        self.lname= lname\n",
    "\n",
    "    @property\n",
    "    def getFullName(self):\n",
    "        return self.fname +\" \" +self.lname\n",
    "\n",
    "    @getFullName.setter\n",
    "    def fullname(self,full):\n",
    "        #joins name\n",
    "        self.fname , self.lname = full.split()\n",
    "\n",
    "class Address(Name):\n",
    "    def __init__(self, city,country):\n",
    "       self.country= country\n",
    "       self.city = city\n",
    "\n",
    "    @staticmethod\n",
    "    def livesInNepal(country):\n",
    "        return country=='Nepal'\n",
    "\n",
    "class Phone(Address,Name):\n",
    "    phone = 98995746434\n",
    "\n",
    "    @classmethod\n",
    "    def printPhone(cls):\n",
    "        #cls used to access class variable\n",
    "        print('The phone number is: ',cls.phone)\n",
    "class Age(Phone):\n",
    "    pass\n",
    "\n",
    "name = Name('Sagun','Rupakheti')\n",
    "address =Address('Kathmandu','Nepal')\n",
    "phone = Phone(address,name)\n",
    "print(name.getFullName)\n",
    "phone.printPhone()\n",
    "#returns boolean\n",
    "print(address.livesInNepal('Nepal'))"
   ]
  },
  {
   "cell_type": "markdown",
   "metadata": {},
   "source": [
    "##4. Create a class for complex number implementing all the arithmetic operations and relational operations related dunder methods. Eg. __add__, __iadd__, __mult__, __eq__, __lt__, …\n"
   ]
  },
  {
   "cell_type": "code",
   "execution_count": 26,
   "metadata": {},
   "outputs": [
    {
     "name": "stdout",
     "output_type": "stream",
     "text": [
      "(6+6j)\n",
      "(3+7j)\n",
      "\n",
      "Addition:\n",
      "(9+13j)\n",
      "\n",
      "Subtraction:\n",
      "(3-1j)\n",
      "\n",
      "Multiplication:\n",
      "(-24+0j)\n",
      "\n",
      "True Division:\n",
      "(-2.4+6j)\n",
      "\n",
      "Power:\n",
      "0j\n"
     ]
    },
    {
     "data": {
      "text/plain": [
       "<__main__.Complex at 0x228e4646790>"
      ]
     },
     "execution_count": 26,
     "metadata": {},
     "output_type": "execute_result"
    }
   ],
   "source": [
    "class Complex():\n",
    "\n",
    "    def __init__(self, real, imaginary=0.0):\n",
    "        self.real = real\n",
    "        self.imaginary = imaginary\n",
    "        # for printing the results\n",
    "        print(self.real + self.imaginary)\n",
    "\n",
    "    def __add__(self, other):\n",
    "        print('\\nAddition:')\n",
    "        return Complex(self.real + other.real, self.imaginary + other.imaginary)\n",
    "\n",
    "    def __sub__(self, other):\n",
    "        print('\\nSubtraction:')\n",
    "        return Complex(self.real - other.real, self.imaginary - other.imaginary)\n",
    "\n",
    "    def __mul__(self, other):\n",
    "        print('\\nMultiplication:')\n",
    "        return Complex((self.real * other.real) + (self.imaginary * other.imaginary))\n",
    "\n",
    "    def __truediv__(self, other):\n",
    "        print('\\nTrue Division:')\n",
    "        divideBy =10\n",
    "        return Complex((self.real * other.real + self.imaginary * other.imaginary) / divideBy,\n",
    "                       (self.imaginary * other.real + self.real * other.imaginary) / divideBy)\n",
    "\n",
    "    def __pow__(self, other):\n",
    "        print('\\nPower:')\n",
    "        return Complex((self.real * other.real + self.imaginary * other.imaginary) ** 2,\n",
    "                       (self.imaginary * other.real - self.real * other.imaginary) ** 2)\n",
    "\n",
    "    def __iadd__(self,other):\n",
    "        self.real = self.real + other.real\n",
    "        return self\n",
    "\n",
    "    def __isub__(self,other):\n",
    "        self.real = self.real - other.real\n",
    "        return self\n",
    "#instantiate object\n",
    "obj1 = Complex(6, 6j)\n",
    "obj2 = Complex(3, 7j)\n",
    "\n",
    "#operations\n",
    "obj1 + obj2\n",
    "obj1 - obj2\n",
    "obj1 * obj2\n",
    "obj1 / obj2\n",
    "obj1**obj2\n"
   ]
  }
 ],
 "metadata": {
  "kernelspec": {
   "display_name": "Python 3",
   "language": "python",
   "name": "python3"
  },
  "language_info": {
   "codemirror_mode": {
    "name": "ipython",
    "version": 3
   },
   "file_extension": ".py",
   "mimetype": "text/x-python",
   "name": "python",
   "nbconvert_exporter": "python",
   "pygments_lexer": "ipython3",
   "version": "3.8.5"
  }
 },
 "nbformat": 4,
 "nbformat_minor": 4
}
