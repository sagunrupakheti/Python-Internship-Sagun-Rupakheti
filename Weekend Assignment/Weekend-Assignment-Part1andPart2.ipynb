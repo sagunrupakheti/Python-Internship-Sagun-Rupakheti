{
 "cells": [
  {
   "cell_type": "markdown",
   "metadata": {},
   "source": [
    "# Python Assignment Part 1"
   ]
  },
  {
   "cell_type": "markdown",
   "metadata": {},
   "source": [
    "##Question 1: General questions:\n",
    "a. Using Map with lambda function generates a third list with a single map statement that sums the integer elements of the same index of two given lists.\n",
    "\n",
    "\n",
    "lst1=[100, 200, 300, 400, 500]\n",
    "lst2=[1,10,100,1000,10000]\n",
    "\n",
    "Should return with a single statement :  [101, 210, 400, 1400, 10500]\n"
   ]
  },
  {
   "cell_type": "code",
   "execution_count": 65,
   "metadata": {},
   "outputs": [
    {
     "name": "stdout",
     "output_type": "stream",
     "text": [
      "[101, 210, 400, 1400, 10500]\n"
     ]
    }
   ],
   "source": [
    "lst1=[100, 200, 300, 400, 500]\n",
    "lst2=[1,10,100,1000,10000]\n",
    " \n",
    "print(list(map(lambda x, y: x + y, lst1, lst2)))"
   ]
  },
  {
   "cell_type": "markdown",
   "metadata": {},
   "source": [
    "##b.Write a function that takes a string and returns the dictionary with each character as key and its count as value.\n",
    "For example: \n",
    "result  = myfunc (\"aaaaabbbbcccdde\")\n",
    "\n",
    "Should return \n",
    "{ ’a’ : 5, ’b’ : 4, ’c’ : 3, ’d’ : 2, ’e’ : 1 }\n"
   ]
  },
  {
   "cell_type": "code",
   "execution_count": 71,
   "metadata": {},
   "outputs": [
    {
     "name": "stdout",
     "output_type": "stream",
     "text": [
      "{'a': 5, 'b': 4, 'c': 3, 'd': 2, 'e': 1}\n"
     ]
    }
   ],
   "source": [
    "#define the list\n",
    "myListofList = (\"aaaaabbbbcccdde\")\n",
    "showOccurence = {}\n",
    "#loop through the list\n",
    "def myfunc(str):\n",
    "    for i in str:\n",
    "        #store the number of times the number occurs\n",
    "        if i in showOccurence.keys():\n",
    "            showOccurence[i] += 1\n",
    "        else:\n",
    "            #set the key to the number\n",
    "            showOccurence[i] = 1\n",
    "myfunc(myListofList)\n",
    "print(showOccurence)"
   ]
  },
  {
   "cell_type": "markdown",
   "metadata": {},
   "source": [
    "##c The dictionary  given below consists of vehicles and their weights in kilograms. Construct a list of the names of vehicles with weight below 5000 kilograms. In the same list comprehension makes the key names all uppercase. Use just a single comprehension statement to achieve it.\n",
    "\t\n",
    "dict={\n",
    "\"Sedan\": 1500, \"SUV\": 2000, \"Pickup\": 2500, \"Minivan\": 1600, \"Van\": 2400, \"Semi\": 13600, \"Bicycle\": 7, \"Motorcycle\": 110\n",
    "}\n",
    "\n",
    "\tSolution should be just a statement with list comprehension like below \n",
    "\tList = [ use comprehension to achieve the result in single statement ] \n"
   ]
  },
  {
   "cell_type": "code",
   "execution_count": 108,
   "metadata": {},
   "outputs": [
    {
     "name": "stdout",
     "output_type": "stream",
     "text": [
      "['SEDAN', 'SUV', 'PICKUP', 'MINIVAN', 'VAN', 'BICYCLE', 'MOTORCYCLE']\n"
     ]
    }
   ],
   "source": [
    "dict={\n",
    "\"Sedan\": 1500, \"SUV\": 2000, \"Pickup\": 2500, \"Minivan\": 1600, \"Van\": 2400, \"Semi\": 13600, \"Bicycle\": 7, \"Motorcycle\": 110\n",
    "}\n",
    "#oneline \n",
    "x = [key.upper() for key in dict if dict.get(key) <5000]\n",
    "print(x)\n"
   ]
  },
  {
   "cell_type": "markdown",
   "metadata": {},
   "source": [
    "\n",
    "##Question 2 Create a program to create a following form inputs as CLI inputs \n",
    "\t\n",
    "Variable\n",
    "type\n",
    "Name\n",
    "String\n",
    "DOB \n",
    "Date type in format ‘mm/dd/yy’\n",
    "Age\n",
    "Integer\n",
    "Hobbies\n",
    "List of stings \n",
    "\n",
    "\n",
    "And write to a file as json data. Give a choice to the user to quit the program or repeat the process.\n",
    "Also Validate the data type from the user.\n",
    "\n"
   ]
  },
  {
   "cell_type": "code",
   "execution_count": 146,
   "metadata": {},
   "outputs": [
    {
     "name": "stdout",
     "output_type": "stream",
     "text": [
      "Enter your name: sagun\n",
      "Enter your date of birth in mm-dd-yyyy format 12-02-2000\n",
      "Enter your age: 21\n",
      "Enter the list size 1\n",
      "singing\n",
      "Successfully added to json file!\n"
     ]
    }
   ],
   "source": [
    "# imports\n",
    "from datetime import datetime\n",
    "import json\n",
    "\n",
    "#name\n",
    "name =str(input('Enter your name: '))\n",
    "#dob\n",
    "while True:\n",
    "    try:\n",
    "        dob = datetime.strptime(input('Enter your date of birth in mm-dd-yyyy format '), \"%m-%d-%Y\")\n",
    "        if dt_start:\n",
    "            check=0;\n",
    "    except ValueError:\n",
    "        check=1;\n",
    "        print(\"Incorrect format\")\n",
    "        continue\n",
    "    if check==0:\n",
    "        break;\n",
    "#age\n",
    "while True:\n",
    "    try:\n",
    "        age = int(input('Enter your age: '))\n",
    "        if age:\n",
    "            check=0;\n",
    "    except ValueError:\n",
    "        print(\"Please enter an integer!\")\n",
    "        continue\n",
    "    if check==0:\n",
    "        break;\n",
    "\n",
    "#hobbies\n",
    "allhobbies = []\n",
    "total_hobbies = int(input(\"Enter the list size \"))\n",
    "for i in range(0, total_hobbies):\n",
    "    allhobbies.append(str(input()))\n",
    "\n",
    "#for appending\n",
    "data=(name,age,dob,allhobbies)\n",
    "import json\n",
    "try:\n",
    "    #open json file to append\n",
    "    with open('data.json', 'a') as outfile:\n",
    "        #default string for date error\n",
    "        outfile.write(json.dumps(data,default=str))\n",
    "        outfile.write(\",\")\n",
    "        outfile.close()\n",
    "        print('Successfully added to json file!')\n",
    "except Exception (e):\n",
    "    print(e)\n",
    "    \n"
   ]
  },
  {
   "cell_type": "markdown",
   "metadata": {},
   "source": [
    "\n",
    " Question 3: A bracket is considered to be any one of the following characters: \n",
    "(, ), {, }, [, or ].\n",
    "Two brackets are considered to be a matched pair if the opening bracket (i.e., (, [, or {) occurs to the left of a closing bracket (i.e., ), ], or }) of the exact same type. There are three types of matched pairs of brackets: [], {}, and ().\n",
    "A matching pair of brackets is not balanced if the set of brackets it encloses are not matched. For example, {[(])} is not balanced because the contents in between { and } are not balanced. The pair of square brackets encloses a single, unbalanced opening bracket, (, and the pair of parentheses encloses a single, unbalanced closing square bracket, ].\n",
    "By this logic, we say a sequence of brackets is balanced if the following conditions are met:\n",
    "It contains no unmatched brackets.\n",
    "The subset of brackets enclosed within the confines of a matched pair of brackets is also a matched pair of brackets.\n",
    "Given a string of brackets as input, determine whether each sequence of brackets is balanced. If a string is balanced, return YES. Otherwise, return NO.\n",
    "Program Description: \n",
    "Complete program with the function isBalanced .\n",
    "isBalanced has the following parameter(s):\n",
    "string s: a string of brackets [  take it as an input argument from the user from CLI ]\n",
    "Returns\n",
    "string: either YES or NO\n",
    "Example Input: “{}[]()[(())]” returns YES\n",
    "\t\t“ {}(]{“ return NO\n"
   ]
  },
  {
   "cell_type": "code",
   "execution_count": 13,
   "metadata": {},
   "outputs": [
    {
     "name": "stdout",
     "output_type": "stream",
     "text": [
      "Enter series of brackets: {{}}]\n",
      "NO\n"
     ]
    }
   ],
   "source": [
    "def isBalanced(myStr):\n",
    "    #series of brackets\n",
    "    bracketsToCheck = ['()', '{}', '[]']\n",
    "    #check till any contents are left \n",
    "    while any(x in myStr for x in bracketsToCheck):\n",
    "        for br in bracketsToCheck:\n",
    "            #replace the found brackets by empty string\n",
    "            myStr = myStr.replace(br, '')\n",
    "    return not myStr\n",
    "\n",
    "string = str(input('Enter series of brackets: '))\n",
    "print(\"YES\" if isBalanced(string) else \"NO\")"
   ]
  },
  {
   "cell_type": "markdown",
   "metadata": {},
   "source": [
    "Question 4  :A left rotation operation on an integer array shifts each of the array's elements unit to the left. For example,  if 2 left rotations are performed on array [1,2,3,4,5] , then the array would become [3,4,5,1,2]\n",
    "\n",
    "Note that the lowest index item moves to the highest index in a rotation. This is called a circular array.\n",
    "Given an array of integers and a number designating the number of rotations, , perform left rotations on the array. Return the updated array to be printed as a single line of space-separated integers.\n",
    "Program Description\n",
    "Write a Program i.e. a python script  with the function named rotateLeft in the\n",
    "rotateLeft has the following parameter(s):\n",
    "array_list  a list  of integers to rotate\n",
    "num_rotate the number of rotations to be made\n",
    "Receive these parameters from the command line as input from the user.\n",
    "Returns\n",
    "the rotated array  and  the number of left rotations.\n"
   ]
  },
  {
   "cell_type": "code",
   "execution_count": 21,
   "metadata": {},
   "outputs": [
    {
     "name": "stdout",
     "output_type": "stream",
     "text": [
      "Enter the list size 5\n",
      "Your array elements: \n",
      "1\n",
      "2\n",
      "3\n",
      "4\n",
      "5\n",
      "How many rotations would you like to see? 3\n",
      "Your left rotated array:  ['4', '5', '1', '2', '3']\n"
     ]
    }
   ],
   "source": [
    "def rotateLeft(array_list,num_rotate):\n",
    "    #Rotate the given array by n times toward left    \n",
    "    for i in range(0, num_rotate):    \n",
    "        #Stores the first element    \n",
    "        first = array_list[0];    \n",
    "        for j in range(0, len(array_list)-1):        \n",
    "            array_list[j] = array_list[j+1];    \n",
    "        #added to end   \n",
    "        array_list[len(array_list)-1] = first;\n",
    "    return array_list;\n",
    "\n",
    "allelem = []\n",
    "total_array_elem = int(input(\"Enter the list size \"))\n",
    "for i in range(0, total_array_elem):\n",
    "    if i==0: print('Your array elements: ')\n",
    "    allelem.append(str(input()))\n",
    "total = int(input(\"How many rotations would you like to see? \"))\n",
    "print('Your left rotated array: ',rotateLeft(allelem,total))\n",
    "\n",
    "    "
   ]
  },
  {
   "cell_type": "markdown",
   "metadata": {},
   "source": [
    "# Python Assignment Part 2"
   ]
  },
  {
   "cell_type": "markdown",
   "metadata": {},
   "source": [
    "##1. Create generator with and without comprehension for getting multiples of given number upto 10.\n",
    "Eg. generator(5) =>> 5, 10, 15 …. 50\n"
   ]
  },
  {
   "cell_type": "code",
   "execution_count": 138,
   "metadata": {},
   "outputs": [
    {
     "name": "stdout",
     "output_type": "stream",
     "text": [
      "3 6 9 12 15 18 21 24 27 30 "
     ]
    }
   ],
   "source": [
    "#generator without comprehension\n",
    "def my_new_gen(var):\n",
    "    for i in range(1,11):\n",
    "        #yield used for return\n",
    "        yield var*i\n",
    "\n",
    "for item in my_new_gen(3):\n",
    "    print(item,end=' ')"
   ]
  },
  {
   "cell_type": "code",
   "execution_count": 17,
   "metadata": {},
   "outputs": [
    {
     "name": "stdout",
     "output_type": "stream",
     "text": [
      "5 10 15 20 25 30 35 40 45 50 "
     ]
    }
   ],
   "source": [
    "#generator with comprehension returns the multiple first\n",
    "gen_comp = (i*5 for i in range(1,11))\n",
    "\n",
    "for item in gen_comp:\n",
    "    print(item,end=' ')"
   ]
  },
  {
   "cell_type": "markdown",
   "metadata": {},
   "source": [
    "##2. Create a scenario where the following errors are handled:\n",
    "a.Custom Error implemented using class\n",
    "b.Custom Error using Exception or BaseException class using message to handle at least two of the cases.\n",
    "c.The full-fledged case for exception handling using try, except, else, finally\n"
   ]
  },
  {
   "cell_type": "code",
   "execution_count": 22,
   "metadata": {},
   "outputs": [
    {
     "name": "stdout",
     "output_type": "stream",
     "text": [
      "The number falls in the range!\n"
     ]
    }
   ],
   "source": [
    "#Custom Error implemented using class\n",
    "class SmallValue(Exception):\n",
    "    pass\n",
    "\n",
    "def checkNum(num):\n",
    "    try:\n",
    "        if num<10:\n",
    "            raise SmallValue\n",
    "        else:\n",
    "            print('The number falls in the range!')\n",
    "    except SmallValue:\n",
    "        print('Please enter a greater number!')\n",
    "        \n",
    "checkNum(12)\n",
    "        \n",
    "        "
   ]
  },
  {
   "cell_type": "code",
   "execution_count": 26,
   "metadata": {},
   "outputs": [
    {
     "name": "stdout",
     "output_type": "stream",
     "text": [
      "Please enter number greater than zero!\n"
     ]
    }
   ],
   "source": [
    "#Custom Error using Exception or BaseException class using message to handle at least two of the cases.\n",
    "class SmallValue(Exception):\n",
    "    pass\n",
    "\n",
    "def checkNum(num):\n",
    "    try:\n",
    "        2%num\n",
    "        if num<10:\n",
    "            raise SmallValue\n",
    "        else:\n",
    "            print('The number falls in the range!')\n",
    "    except ZeroDivisionError:\n",
    "        print('Please enter number greater than zero!')\n",
    "    except SmallValue:\n",
    "        print('Please enter a greater number!')   \n",
    "checkNum(0)"
   ]
  },
  {
   "cell_type": "code",
   "execution_count": 28,
   "metadata": {},
   "outputs": [
    {
     "name": "stdout",
     "output_type": "stream",
     "text": [
      "Congratulations! Non Zero Number\n",
      "You entered the number:  2\n"
     ]
    }
   ],
   "source": [
    "#The full-fledged case for exception handling using try, except, else, finally\n",
    "def checkNum(num):\n",
    "    try:\n",
    "        #remainder\n",
    "        2%num\n",
    "    except ZeroDivisionError:\n",
    "        print('Please enter number greater than zero!')\n",
    "    else:\n",
    "        print('Congratulations! Non Zero Number')\n",
    "    finally:\n",
    "        print('You entered the number: ',num)\n",
    "checkNum(2)\n",
    "        "
   ]
  },
  {
   "cell_type": "markdown",
   "metadata": {},
   "source": [
    "##3. Create at least 4 classes having semantic meaning (having relation to each other) so that multiple inheritance can be achieved and incorporating the following things in some of them:\n",
    "@classmethod \n",
    "@staticmethod\n",
    "@property and setter for it\n",
    "Class_variable\n"
   ]
  },
  {
   "cell_type": "code",
   "execution_count": 1,
   "metadata": {},
   "outputs": [
    {
     "name": "stdout",
     "output_type": "stream",
     "text": [
      "Sagun Rupakheti\n",
      "The phone number is:  98995746434\n",
      "True\n"
     ]
    }
   ],
   "source": [
    "class Name():\n",
    "    def __init__(self, fname, lname):\n",
    "        self.fname= fname\n",
    "        self.lname= lname\n",
    "\n",
    "    @property\n",
    "    def getFullName(self):\n",
    "        return self.fname +\" \" +self.lname\n",
    "\n",
    "    @getFullName.setter\n",
    "    def fullname(self,full):\n",
    "        #joins name\n",
    "        self.fname , self.lname = full.split()\n",
    "\n",
    "class Address(Name):\n",
    "    def __init__(self, city,country):\n",
    "       self.country= country\n",
    "       self.city = city\n",
    "\n",
    "    @staticmethod\n",
    "    def livesInNepal(country):\n",
    "        return country=='Nepal'\n",
    "\n",
    "class Phone(Address,Name):\n",
    "    phone = 98995746434\n",
    "\n",
    "    @classmethod\n",
    "    def printPhone(cls):\n",
    "        #cls used to access class variable\n",
    "        print('The phone number is: ',cls.phone)\n",
    "class Age(Phone):\n",
    "    pass\n",
    "\n",
    "name = Name('Sagun','Rupakheti')\n",
    "address =Address('Kathmandu','Nepal')\n",
    "phone = Phone(address,name)\n",
    "print(name.getFullName)\n",
    "phone.printPhone()\n",
    "#returns boolean\n",
    "print(address.livesInNepal('Nepal'))"
   ]
  },
  {
   "cell_type": "markdown",
   "metadata": {},
   "source": [
    "##4. Create a class for complex number implementing all the arithmetic operations and relational operations related dunder methods. Eg. __add__, __iadd__, __mult__, __eq__, __lt__, …\n"
   ]
  },
  {
   "cell_type": "code",
   "execution_count": 34,
   "metadata": {},
   "outputs": [
    {
     "name": "stdout",
     "output_type": "stream",
     "text": [
      "(6+6j)\n",
      "(3+7j)\n",
      "\n",
      "Addition:\n",
      "(9+13j)\n",
      "\n",
      "Subtraction:\n",
      "(3-1j)\n",
      "\n",
      "Multiplication:\n",
      "(-24+0j)\n",
      "\n",
      "True Division:\n",
      "(2.857142857142857+0j)\n",
      "\n",
      "\n",
      "illegal operation \">=\"! Does not work on complex number!\n",
      "\n",
      "\n",
      "illegal operation \"+=\"! Does not work on complex number!\n"
     ]
    }
   ],
   "source": [
    "#complex class\n",
    "class Complex():\n",
    "\n",
    "    def __init__(self, real, imaginary=0.0):\n",
    "        self.real = real\n",
    "        self.imaginary = imaginary\n",
    "        # for printing the results\n",
    "        print(self.real + self.imaginary)\n",
    "\n",
    "    def __add__(self, other):\n",
    "        print('\\nAddition:')\n",
    "        return Complex(self.real + other.real, self.imaginary + other.imaginary)\n",
    "\n",
    "    def __sub__(self, other):\n",
    "        print('\\nSubtraction:')\n",
    "        return Complex(self.real - other.real, self.imaginary - other.imaginary)\n",
    "\n",
    "    def __mul__(self, other):\n",
    "        print('\\nMultiplication:')\n",
    "        return Complex(self.real * other.real, self.imaginary * other.imaginary)\n",
    "\n",
    "    def __truediv__(self, other):\n",
    "        print('\\nTrue Division:')\n",
    "        return Complex(self.real / other.real, self.imaginary / other.imaginary)\n",
    "    \n",
    "    def __eq__(self, other):\n",
    "        return self.real == other.real and self.imaginary == other.imaginary\n",
    "    \n",
    "    def __ne__(self, other):\n",
    "        return not self.__eq__(other)\n",
    "    \n",
    "    def __pow__(self, other):\n",
    "        #does not work for complex number\n",
    "        pass\n",
    "    \n",
    "    #illegal for operations that don't work on complex numbers\n",
    "    def _illegal(self, other):\n",
    "        print('\\n')\n",
    "        print('illegal operation \"%s\"! Does not work on complex number!' % other)        \n",
    "        \n",
    "    def __gt__(self, other):  \n",
    "        self._illegal('>')\n",
    "        \n",
    "    def __ge__(self, other):  \n",
    "        self._illegal('>=')\n",
    "        \n",
    "    def __lt__(self, other):  \n",
    "        self._illegal('<')\n",
    "        \n",
    "    def __le__(self, other):  \n",
    "        self._illegal('<=')\n",
    "    \n",
    "    def __iadd__(self,other):\n",
    "        self._illegal('+=')\n",
    "\n",
    "    def __isub__(self,other):\n",
    "        self._illegal('-=')\n",
    "    \n",
    "#instantiate object\n",
    "obj1 = Complex(6, 6j)\n",
    "obj2 = Complex(3, 7j)\n",
    "\n",
    "#operations\n",
    "obj1 + obj2\n",
    "obj1 - obj2\n",
    "obj1 * obj2\n",
    "obj1 / obj2\n",
    "obj1**obj2\n",
    "obj1==obj2\n",
    "obj1!=obj2\n",
    "obj1>=obj2\n",
    "obj1+=obj2"
   ]
  },
  {
   "cell_type": "markdown",
   "metadata": {},
   "source": [
    "##5 Create a Class representing the clone behavior of lists in python.\n",
    "Eg. List(“1234”) works same as list(“1234”)\n",
    "Adding 2 lists, multiple ways of instantiating using @classmethod.\n"
   ]
  },
  {
   "cell_type": "code",
   "execution_count": 28,
   "metadata": {},
   "outputs": [
    {
     "name": "stdout",
     "output_type": "stream",
     "text": [
      "Original List: [1, 2, 3, 4]\n",
      "After Cloning: [1, 2, 3, 4]\n",
      "Added both list using class method:  [2, 4, 6, 8]\n"
     ]
    }
   ],
   "source": [
    "class cloneBehaviorList():\n",
    "   \n",
    "    def __init__(self,list1):\n",
    "        self.list1= list1\n",
    "    #copylist    \n",
    "    def CloneList(self):\n",
    "       return self.list1[:]\n",
    "    \n",
    "    @classmethod\n",
    "    def addList(self):\n",
    "        lt2 = [1,2,3,4]\n",
    "        #addlist\n",
    "        return [ list1[x] + lt2[x] for x in range (len (list1))]   \n",
    "  \n",
    "list1 = [1,2,3,4]\n",
    "list2= cloneBehaviorList(list1).CloneList()\n",
    "print(\"Original List:\", list1)\n",
    "print(\"After Cloning:\", list2)\n",
    "print(\"Added both list using class method: \",cloneBehaviorList.addList())"
   ]
  },
  {
   "cell_type": "markdown",
   "metadata": {},
   "source": [
    "##6 Replicate the behaviour of range() object using :\n",
    "Iterator class, __iter__ and __next__\n",
    "Generator\n",
    "Generator comprehension\n"
   ]
  },
  {
   "cell_type": "code",
   "execution_count": 59,
   "metadata": {},
   "outputs": [
    {
     "name": "stdout",
     "output_type": "stream",
     "text": [
      "1 2 4 8 16 32 "
     ]
    }
   ],
   "source": [
    "#Iterator class, __iter__ and __next__\n",
    "class Iterator():\n",
    "    def __iter__(self):\n",
    "        self.a = 1\n",
    "        return self\n",
    "\n",
    "    def __next__(self):\n",
    "        if self.a <= 40:\n",
    "          x = self.a\n",
    "          self.a = self.a*2\n",
    "          return x\n",
    "        else:\n",
    "          raise StopIteration\n",
    "\n",
    "myclass = Iterator()\n",
    "calliter = iter(myclass)\n",
    "\n",
    "for x in calliter:\n",
    "    print(x,end=' ')\n"
   ]
  },
  {
   "cell_type": "code",
   "execution_count": 58,
   "metadata": {},
   "outputs": [
    {
     "name": "stdout",
     "output_type": "stream",
     "text": [
      "3 9 27 81 243 729 2187 6561 19683 59049 177147 531441 1594323 4782969 14348907 43046721 129140163 387420489 1162261467 "
     ]
    }
   ],
   "source": [
    "#Generator\n",
    "def my_new_gen(val):\n",
    "    for i in range(1,20):\n",
    "        #yield used for return\n",
    "        yield val**i\n",
    "\n",
    "for item in my_new_gen(3):\n",
    "    print(item,end=' ')"
   ]
  },
  {
   "cell_type": "code",
   "execution_count": 60,
   "metadata": {},
   "outputs": [
    {
     "name": "stdout",
     "output_type": "stream",
     "text": [
      "1 4 9 16 25 36 49 64 81 100 121 144 169 196 225 256 289 324 361 "
     ]
    }
   ],
   "source": [
    "#Generator comprehension\n",
    "gen_comp = (i*i for i in range(1,20))\n",
    "\n",
    "for item in gen_comp:\n",
    "    print(item,end=' ')"
   ]
  },
  {
   "cell_type": "code",
   "execution_count": null,
   "metadata": {},
   "outputs": [],
   "source": []
  }
 ],
 "metadata": {
  "kernelspec": {
   "display_name": "Python 3",
   "language": "python",
   "name": "python3"
  },
  "language_info": {
   "codemirror_mode": {
    "name": "ipython",
    "version": 3
   },
   "file_extension": ".py",
   "mimetype": "text/x-python",
   "name": "python",
   "nbconvert_exporter": "python",
   "pygments_lexer": "ipython3",
   "version": "3.8.5"
  }
 },
 "nbformat": 4,
 "nbformat_minor": 4
}
